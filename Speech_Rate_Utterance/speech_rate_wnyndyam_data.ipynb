{
 "cells": [
  {
   "cell_type": "code",
   "execution_count": null,
   "metadata": {},
   "outputs": [],
   "source": [
    "import json\n",
    "import nltk\n",
    "\n",
    "nltk.download('cmudict')\n",
    "\n",
    "cmudict = nltk.corpus.cmudict.dict()"
   ]
  },
  {
   "cell_type": "code",
   "execution_count": 21,
   "metadata": {},
   "outputs": [],
   "source": [
    "import csv\n",
    "import json\n",
    "\n",
    "# Function to count syllables in a word\n",
    "def count_syllables(word):\n",
    "    word = word.lower()\n",
    "    if word in cmudict:\n",
    "        phonemes = cmudict[word][0]\n",
    "        syllable_count = len([ph for ph in phonemes if ph[-1].isdigit()])\n",
    "    else:\n",
    "        syllable_count = 1\n",
    "    return syllable_count\n",
    "\n",
    "# Function to calculate syllables per second\n",
    "def calculate_syllables_per_second(csv_file, output_csv):\n",
    "    # Open the CSV file for reading\n",
    "    with open(csv_file, 'r') as file:\n",
    "        reader = csv.DictReader(file)\n",
    "        rows = list(reader)\n",
    "\n",
    "    # Initialize a new list for storing the updated rows with the SPS score\n",
    "    updated_rows = []\n",
    "\n",
    "    for row in rows:\n",
    "        sentence = row['finaltranscription']\n",
    "        duration = float(row['normalizedduration'])\n",
    "\n",
    "        words = sentence.split()\n",
    "\n",
    "        # Calculate syllables\n",
    "        syllables = sum(count_syllables(word) for word in words)\n",
    "\n",
    "        syllables_per_second = syllables / duration if duration != 0 else 0\n",
    "\n",
    "        # Update the row with the new column for SPS score\n",
    "        row['sps_score'] = syllables_per_second\n",
    "\n",
    "        # Append the updated row to the list\n",
    "        updated_rows.append(row)\n",
    "\n",
    "    # Write the updated rows to a new CSV file\n",
    "    fieldnames = reader.fieldnames + ['sps_score']\n",
    "    with open(output_csv, 'w', newline='') as file:\n",
    "        writer = csv.writer(file)\n",
    "        writer.writerow(fieldnames)\n",
    "        for row in updated_rows:\n",
    "            writer.writerow([row[field] for field in fieldnames])\n",
    "\n",
    "    print(\"SPS scores calculated and saved in the output CSV file.\")\n"
   ]
  },
  {
   "cell_type": "code",
   "execution_count": 24,
   "metadata": {},
   "outputs": [
    {
     "ename": "FileNotFoundError",
     "evalue": "[Errno 2] No such file or directory: 'C:\\\\Users\\\\JanardhanMuralidhar\\\\Sanas_Projects\\\\Speech_Rate_Utterance\\\\wyndhyam_test_csvs\\\\test_wyndham.csv\\\\output.csv'",
     "output_type": "error",
     "traceback": [
      "\u001b[1;31m---------------------------------------------------------------------------\u001b[0m",
      "\u001b[1;31mFileNotFoundError\u001b[0m                         Traceback (most recent call last)",
      "Cell \u001b[1;32mIn[24], line 4\u001b[0m\n\u001b[0;32m      2\u001b[0m csv_file \u001b[39m=\u001b[39m \u001b[39mr\u001b[39m\u001b[39m'\u001b[39m\u001b[39mC:\u001b[39m\u001b[39m\\\u001b[39m\u001b[39mUsers\u001b[39m\u001b[39m\\\u001b[39m\u001b[39mJanardhanMuralidhar\u001b[39m\u001b[39m\\\u001b[39m\u001b[39mSanas_Projects\u001b[39m\u001b[39m\\\u001b[39m\u001b[39mSpeech_Rate_Utterance\u001b[39m\u001b[39m\\\u001b[39m\u001b[39mwyndhyam_test_csvs\u001b[39m\u001b[39m\\\u001b[39m\u001b[39mtest_wyndham.csv\u001b[39m\u001b[39m'\u001b[39m\n\u001b[0;32m      3\u001b[0m output_csv \u001b[39m=\u001b[39m \u001b[39mr\u001b[39m\u001b[39m'\u001b[39m\u001b[39mC:\u001b[39m\u001b[39m\\\u001b[39m\u001b[39mUsers\u001b[39m\u001b[39m\\\u001b[39m\u001b[39mJanardhanMuralidhar\u001b[39m\u001b[39m\\\u001b[39m\u001b[39mSanas_Projects\u001b[39m\u001b[39m\\\u001b[39m\u001b[39mSpeech_Rate_Utterance\u001b[39m\u001b[39m\\\u001b[39m\u001b[39mwyndhyam_test_csvs\u001b[39m\u001b[39m\\\u001b[39m\u001b[39mtest_wyndham.csv\u001b[39m\u001b[39m\\\u001b[39m\u001b[39moutput.csv\u001b[39m\u001b[39m'\u001b[39m\n\u001b[1;32m----> 4\u001b[0m calculate_syllables_per_second(csv_file, output_csv)\n",
      "Cell \u001b[1;32mIn[21], line 43\u001b[0m, in \u001b[0;36mcalculate_syllables_per_second\u001b[1;34m(csv_file, output_csv)\u001b[0m\n\u001b[0;32m     41\u001b[0m \u001b[39m# Write the updated rows to a new CSV file\u001b[39;00m\n\u001b[0;32m     42\u001b[0m fieldnames \u001b[39m=\u001b[39m reader\u001b[39m.\u001b[39mfieldnames \u001b[39m+\u001b[39m [\u001b[39m'\u001b[39m\u001b[39msps_score\u001b[39m\u001b[39m'\u001b[39m]\n\u001b[1;32m---> 43\u001b[0m \u001b[39mwith\u001b[39;00m \u001b[39mopen\u001b[39;49m(output_csv, \u001b[39m'\u001b[39;49m\u001b[39mw\u001b[39;49m\u001b[39m'\u001b[39;49m, newline\u001b[39m=\u001b[39;49m\u001b[39m'\u001b[39;49m\u001b[39m'\u001b[39;49m) \u001b[39mas\u001b[39;00m file:\n\u001b[0;32m     44\u001b[0m     writer \u001b[39m=\u001b[39m csv\u001b[39m.\u001b[39mwriter(file)\n\u001b[0;32m     45\u001b[0m     writer\u001b[39m.\u001b[39mwriterow(fieldnames)\n",
      "File \u001b[1;32m~\\AppData\\Roaming\\Python\\Python311\\site-packages\\IPython\\core\\interactiveshell.py:284\u001b[0m, in \u001b[0;36m_modified_open\u001b[1;34m(file, *args, **kwargs)\u001b[0m\n\u001b[0;32m    277\u001b[0m \u001b[39mif\u001b[39;00m file \u001b[39min\u001b[39;00m {\u001b[39m0\u001b[39m, \u001b[39m1\u001b[39m, \u001b[39m2\u001b[39m}:\n\u001b[0;32m    278\u001b[0m     \u001b[39mraise\u001b[39;00m \u001b[39mValueError\u001b[39;00m(\n\u001b[0;32m    279\u001b[0m         \u001b[39mf\u001b[39m\u001b[39m\"\u001b[39m\u001b[39mIPython won\u001b[39m\u001b[39m'\u001b[39m\u001b[39mt let you open fd=\u001b[39m\u001b[39m{\u001b[39;00mfile\u001b[39m}\u001b[39;00m\u001b[39m by default \u001b[39m\u001b[39m\"\u001b[39m\n\u001b[0;32m    280\u001b[0m         \u001b[39m\"\u001b[39m\u001b[39mas it is likely to crash IPython. If you know what you are doing, \u001b[39m\u001b[39m\"\u001b[39m\n\u001b[0;32m    281\u001b[0m         \u001b[39m\"\u001b[39m\u001b[39myou can use builtins\u001b[39m\u001b[39m'\u001b[39m\u001b[39m open.\u001b[39m\u001b[39m\"\u001b[39m\n\u001b[0;32m    282\u001b[0m     )\n\u001b[1;32m--> 284\u001b[0m \u001b[39mreturn\u001b[39;00m io_open(file, \u001b[39m*\u001b[39;49margs, \u001b[39m*\u001b[39;49m\u001b[39m*\u001b[39;49mkwargs)\n",
      "\u001b[1;31mFileNotFoundError\u001b[0m: [Errno 2] No such file or directory: 'C:\\\\Users\\\\JanardhanMuralidhar\\\\Sanas_Projects\\\\Speech_Rate_Utterance\\\\wyndhyam_test_csvs\\\\test_wyndham.csv\\\\output.csv'"
     ]
    }
   ],
   "source": [
    "# Example usage\n",
    "csv_file = r'C:\\Users\\JanardhanMuralidhar\\Sanas_Projects\\Speech_Rate_Utterance\\wyndhyam_test_csvs\\test_wyndham.csv'\n",
    "output_csv = r'C:\\Users\\JanardhanMuralidhar\\Sanas_Projects\\Speech_Rate_Utterance\\wyndhyam_test_csvs\\test_wyndham.csv\\output.csv'\n",
    "calculate_syllables_per_second(csv_file, output_csv)"
   ]
  }
 ],
 "metadata": {
  "kernelspec": {
   "display_name": "Python 3",
   "language": "python",
   "name": "python3"
  },
  "language_info": {
   "name": "python",
   "version": "3.11.3"
  },
  "orig_nbformat": 4
 },
 "nbformat": 4,
 "nbformat_minor": 2
}
